{
 "metadata": {
  "language_info": {
   "codemirror_mode": {
    "name": "ipython",
    "version": 3
   },
   "file_extension": ".py",
   "mimetype": "text/x-python",
   "name": "python",
   "nbconvert_exporter": "python",
   "pygments_lexer": "ipython3",
   "version": "3.7.9-final"
  },
  "orig_nbformat": 2,
  "kernelspec": {
   "name": "python379jvsc74a57bd0e534e48711db4d1e1c48977d0d14ff85b1f16d41bcc4fdfd88268a329b3c9d66",
   "display_name": "Python 3.7.9 64-bit"
  }
 },
 "nbformat": 4,
 "nbformat_minor": 2,
 "cells": [
  {
   "source": [
    "# 경기도 지역화폐 공공데이터 EDA & Data Preprocessing"
   ],
   "cell_type": "markdown",
   "metadata": {}
  },
  {
   "cell_type": "code",
   "execution_count": 14,
   "metadata": {},
   "outputs": [],
   "source": [
    "import pandas as pd\n",
    "import numpy as np\n",
    "import matplotlib.pyplot as plt"
   ]
  },
  {
   "source": [
    "## 1. 데이터 수집\n",
    "\n",
    "### 1) 지역화폐 결제 관련 데이터\n",
    "경기도 시군구별 지역화폐 사용량 데이터 접근 가능 ➡️ 경기도 데이터 사용   \n",
    "<br>\n",
    "### 참고 사이트\n",
    "- [경기지역경제포털](https://bigdata-region.kr/)   \n",
    "- [경기데이터드림](https://data.gg.go.kr/)   \n",
    "<br>\n",
    "### 데이터 리스트   \n",
    "- 2019년 3~9월 주간 결제금액 정보\n",
    "- 2019년 3~9월 일간 가맹점별 결제금액 정보\n",
    "- 남녀별 소비패턴 현황\n",
    "- 행정동별 지자체 상품 카드 사용 빈도 현황\n",
    "- 연령별 거주인구 대비 지역화폐 사용금액 현황\n",
    "- 연령별 지역화폐 사용 빈도 현황\n",
    "- 용도지역별 결제업종 분석\n",
    "- 지역별 지역화폐 사용량 및 지역별 소상공인 분포\n",
    "- 지역별 지역화폐 결제금액 및 결제변화율\n",
    "- ~~지역화폐 가맹점 현황~~"
   ],
   "cell_type": "markdown",
   "metadata": {}
  },
  {
   "source": [
    "## 2. EDA(Exploratory Data Analysis)\n",
    "> 탐색적 데이터 분석 : 데이터를 다양한 각도에서 관찰하고 이해하는 과정으로 시각화기법, 기본통계분석을 통해 데이터의 특징과 구조를 파악하고 유의미한 결과를 도출하는 방법   \n",
    "<br>\n",
    "\"데이터 분석하기 전 전처리를 하면서 데이터를 이해하는 작업\"   \n",
    "\n",
    "### EDA를 잘하는 방법\n",
    "1. 데이터가 가진 feature와 value의 의미를 이해하는 기술   \n",
    "2. 결측치 처리 및 데이터필터링 기술   \n",
    "3. <u>이해하기 쉬운 시각화를 하는 기술</u>"
   ],
   "cell_type": "markdown",
   "metadata": {}
  },
  {
   "source": [
    "### 1) 지역별 지역화폐 사용량 및 지역별 소상공인 분포\n",
    "\n",
    "경기도 지역별 결제현황 및 상권업종대분류 대비 상가 건수\n",
    "\n",
    "- 분석인덱스 : 인덱스\n",
    "- 가맹점우편번호 : 지역화폐 가맹점 우편번호\n",
    "- 성별코드 : 결제 회원의 성별코드\n",
    "- 연령대코드 : 결제 회원의 연령대코드\n",
    "- 결제수 : 우편번호 기준 성별 및 연령에 따른 결제 횟수\n",
    "- 업종대분류명 : 표준 업종코드 기준 상권업종대분류명\n",
    "- 상가수 : 우편번호 기준 상권업종대분류에 따른 상가 수\n",
    "- 데이터 기준일 : 2019년 10월 ~2020년 06월\n",
    "\n",
    "### 2) 경기도 우편번호 DB\n",
    "\n",
    "경기도 지역별 우편번호 및 도로명, 지번주소\n",
    "\n",
    "### 3) 남녀별 소비패턴 현황\n",
    "2019년 경기도 시군구 남녀별 월 단위 소비패턴 현황\n",
    "- 시군구 : 시군구 명\n",
    "- 성별 : M(남성), F(여성)\n",
    "- 가맹업종명 : 가맹업종명\n",
    "- 총결제금액 : 시군구 행정동 별 결제금액 (단위: 원)\n",
    "- 데이터 기준일 : 2019년 03월 ~2019년 09월\n"
   ],
   "cell_type": "markdown",
   "metadata": {}
  },
  {
   "cell_type": "code",
   "execution_count": 15,
   "metadata": {},
   "outputs": [
    {
     "output_type": "stream",
     "name": "stderr",
     "text": [
      "/Library/Frameworks/Python.framework/Versions/3.7/lib/python3.7/site-packages/IPython/core/interactiveshell.py:3166: DtypeWarning: Columns (3) have mixed types.Specify dtype option on import or set low_memory=False.\n",
      "  interactivity=interactivity, compiler=compiler, result=result)\n",
      "/Library/Frameworks/Python.framework/Versions/3.7/lib/python3.7/site-packages/IPython/core/interactiveshell.py:3357: DtypeWarning: Columns (5,6,18) have mixed types.Specify dtype option on import or set low_memory=False.\n",
      "  if (await self.run_code(code, result,  async_=asy)):\n"
     ]
    }
   ],
   "source": [
    "# Load Data\n",
    "df_lcrcy_induty = pd.read_csv('./data/TP_LCRCY_USE_ND_INDUTY_DISTRB.csv')\n",
    "df_postnum = pd.read_table('./data/gg.txt', sep='|')\n",
    "df_mwmn = pd.read_csv('./data/TP_MWMN_ACCTO_CNSMP_PTTRN.csv')"
   ]
  },
  {
   "cell_type": "code",
   "execution_count": 16,
   "metadata": {},
   "outputs": [
    {
     "output_type": "execute_result",
     "data": {
      "text/plain": [
       "   분석인덱스  가맹점우편번호 성별코드 연령대코드  결제수                업종대분류명  상가수\n",
       "0      0    10125    M    40    1                  C제조업   15\n",
       "1      1    10125    M    40    1  E하수·폐기물처리;원료재생및환경복원업    1\n",
       "2      2    10125    M    40    1                  F건설업    5\n",
       "3      3    10125    M    40    1               G도매및소매업   52\n",
       "4      4    10125    M    40    1                  H운수업    9"
      ],
      "text/html": "<div>\n<style scoped>\n    .dataframe tbody tr th:only-of-type {\n        vertical-align: middle;\n    }\n\n    .dataframe tbody tr th {\n        vertical-align: top;\n    }\n\n    .dataframe thead th {\n        text-align: right;\n    }\n</style>\n<table border=\"1\" class=\"dataframe\">\n  <thead>\n    <tr style=\"text-align: right;\">\n      <th></th>\n      <th>분석인덱스</th>\n      <th>가맹점우편번호</th>\n      <th>성별코드</th>\n      <th>연령대코드</th>\n      <th>결제수</th>\n      <th>업종대분류명</th>\n      <th>상가수</th>\n    </tr>\n  </thead>\n  <tbody>\n    <tr>\n      <th>0</th>\n      <td>0</td>\n      <td>10125</td>\n      <td>M</td>\n      <td>40</td>\n      <td>1</td>\n      <td>C제조업</td>\n      <td>15</td>\n    </tr>\n    <tr>\n      <th>1</th>\n      <td>1</td>\n      <td>10125</td>\n      <td>M</td>\n      <td>40</td>\n      <td>1</td>\n      <td>E하수·폐기물처리;원료재생및환경복원업</td>\n      <td>1</td>\n    </tr>\n    <tr>\n      <th>2</th>\n      <td>2</td>\n      <td>10125</td>\n      <td>M</td>\n      <td>40</td>\n      <td>1</td>\n      <td>F건설업</td>\n      <td>5</td>\n    </tr>\n    <tr>\n      <th>3</th>\n      <td>3</td>\n      <td>10125</td>\n      <td>M</td>\n      <td>40</td>\n      <td>1</td>\n      <td>G도매및소매업</td>\n      <td>52</td>\n    </tr>\n    <tr>\n      <th>4</th>\n      <td>4</td>\n      <td>10125</td>\n      <td>M</td>\n      <td>40</td>\n      <td>1</td>\n      <td>H운수업</td>\n      <td>9</td>\n    </tr>\n  </tbody>\n</table>\n</div>"
     },
     "metadata": {},
     "execution_count": 16
    }
   ],
   "source": [
    "df_lcrcy_induty.head()"
   ]
  },
  {
   "cell_type": "code",
   "execution_count": 17,
   "metadata": {},
   "outputs": [
    {
     "output_type": "execute_result",
     "data": {
      "text/plain": [
       "    우편번호   시도         시도영문  시군구         시군구영문   읍면          읍면영문  \\\n",
       "0  12410  경기도  Gyeonggi-do  가평군  Gapyeong-gun  가평읍  Gapyeong-eup   \n",
       "1  12410  경기도  Gyeonggi-do  가평군  Gapyeong-gun  가평읍  Gapyeong-eup   \n",
       "2  12410  경기도  Gyeonggi-do  가평군  Gapyeong-gun  가평읍  Gapyeong-eup   \n",
       "3  12410  경기도  Gyeonggi-do  가평군  Gapyeong-gun  가평읍  Gapyeong-eup   \n",
       "4  12410  경기도  Gyeonggi-do  가평군  Gapyeong-gun  가평읍  Gapyeong-eup   \n",
       "\n",
       "          도로명코드  도로명     도로명영문  ...       법정동코드  법정동명   리명 행정동명  산여부 지번본번  \\\n",
       "0  418203216017  보납로  Bonap-ro  ...  4182025030   NaN  개곡리  가평읍    0  436   \n",
       "1  418203216017  보납로  Bonap-ro  ...  4182025030   NaN  개곡리  가평읍    0  436   \n",
       "2  418203216017  보납로  Bonap-ro  ...  4182025030   NaN  개곡리  가평읍    0  462   \n",
       "3  418203216017  보납로  Bonap-ro  ...  4182025030   NaN  개곡리  가평읍    0  436   \n",
       "4  418203216017  보납로  Bonap-ro  ...  4182025030   NaN  개곡리  가평읍    0  436   \n",
       "\n",
       "   읍면동일련번호 지번부번 구우편번호 우편번호일련번호  \n",
       "0        1    2   NaN      NaN  \n",
       "1        1    4   NaN      NaN  \n",
       "2        1    5   NaN      NaN  \n",
       "3        1    1   NaN      NaN  \n",
       "4        1    3   NaN      NaN  \n",
       "\n",
       "[5 rows x 26 columns]"
      ],
      "text/html": "<div>\n<style scoped>\n    .dataframe tbody tr th:only-of-type {\n        vertical-align: middle;\n    }\n\n    .dataframe tbody tr th {\n        vertical-align: top;\n    }\n\n    .dataframe thead th {\n        text-align: right;\n    }\n</style>\n<table border=\"1\" class=\"dataframe\">\n  <thead>\n    <tr style=\"text-align: right;\">\n      <th></th>\n      <th>우편번호</th>\n      <th>시도</th>\n      <th>시도영문</th>\n      <th>시군구</th>\n      <th>시군구영문</th>\n      <th>읍면</th>\n      <th>읍면영문</th>\n      <th>도로명코드</th>\n      <th>도로명</th>\n      <th>도로명영문</th>\n      <th>...</th>\n      <th>법정동코드</th>\n      <th>법정동명</th>\n      <th>리명</th>\n      <th>행정동명</th>\n      <th>산여부</th>\n      <th>지번본번</th>\n      <th>읍면동일련번호</th>\n      <th>지번부번</th>\n      <th>구우편번호</th>\n      <th>우편번호일련번호</th>\n    </tr>\n  </thead>\n  <tbody>\n    <tr>\n      <th>0</th>\n      <td>12410</td>\n      <td>경기도</td>\n      <td>Gyeonggi-do</td>\n      <td>가평군</td>\n      <td>Gapyeong-gun</td>\n      <td>가평읍</td>\n      <td>Gapyeong-eup</td>\n      <td>418203216017</td>\n      <td>보납로</td>\n      <td>Bonap-ro</td>\n      <td>...</td>\n      <td>4182025030</td>\n      <td>NaN</td>\n      <td>개곡리</td>\n      <td>가평읍</td>\n      <td>0</td>\n      <td>436</td>\n      <td>1</td>\n      <td>2</td>\n      <td>NaN</td>\n      <td>NaN</td>\n    </tr>\n    <tr>\n      <th>1</th>\n      <td>12410</td>\n      <td>경기도</td>\n      <td>Gyeonggi-do</td>\n      <td>가평군</td>\n      <td>Gapyeong-gun</td>\n      <td>가평읍</td>\n      <td>Gapyeong-eup</td>\n      <td>418203216017</td>\n      <td>보납로</td>\n      <td>Bonap-ro</td>\n      <td>...</td>\n      <td>4182025030</td>\n      <td>NaN</td>\n      <td>개곡리</td>\n      <td>가평읍</td>\n      <td>0</td>\n      <td>436</td>\n      <td>1</td>\n      <td>4</td>\n      <td>NaN</td>\n      <td>NaN</td>\n    </tr>\n    <tr>\n      <th>2</th>\n      <td>12410</td>\n      <td>경기도</td>\n      <td>Gyeonggi-do</td>\n      <td>가평군</td>\n      <td>Gapyeong-gun</td>\n      <td>가평읍</td>\n      <td>Gapyeong-eup</td>\n      <td>418203216017</td>\n      <td>보납로</td>\n      <td>Bonap-ro</td>\n      <td>...</td>\n      <td>4182025030</td>\n      <td>NaN</td>\n      <td>개곡리</td>\n      <td>가평읍</td>\n      <td>0</td>\n      <td>462</td>\n      <td>1</td>\n      <td>5</td>\n      <td>NaN</td>\n      <td>NaN</td>\n    </tr>\n    <tr>\n      <th>3</th>\n      <td>12410</td>\n      <td>경기도</td>\n      <td>Gyeonggi-do</td>\n      <td>가평군</td>\n      <td>Gapyeong-gun</td>\n      <td>가평읍</td>\n      <td>Gapyeong-eup</td>\n      <td>418203216017</td>\n      <td>보납로</td>\n      <td>Bonap-ro</td>\n      <td>...</td>\n      <td>4182025030</td>\n      <td>NaN</td>\n      <td>개곡리</td>\n      <td>가평읍</td>\n      <td>0</td>\n      <td>436</td>\n      <td>1</td>\n      <td>1</td>\n      <td>NaN</td>\n      <td>NaN</td>\n    </tr>\n    <tr>\n      <th>4</th>\n      <td>12410</td>\n      <td>경기도</td>\n      <td>Gyeonggi-do</td>\n      <td>가평군</td>\n      <td>Gapyeong-gun</td>\n      <td>가평읍</td>\n      <td>Gapyeong-eup</td>\n      <td>418203216017</td>\n      <td>보납로</td>\n      <td>Bonap-ro</td>\n      <td>...</td>\n      <td>4182025030</td>\n      <td>NaN</td>\n      <td>개곡리</td>\n      <td>가평읍</td>\n      <td>0</td>\n      <td>436</td>\n      <td>1</td>\n      <td>3</td>\n      <td>NaN</td>\n      <td>NaN</td>\n    </tr>\n  </tbody>\n</table>\n<p>5 rows × 26 columns</p>\n</div>"
     },
     "metadata": {},
     "execution_count": 17
    }
   ],
   "source": [
    "df_postnum.head()"
   ]
  },
  {
   "cell_type": "code",
   "execution_count": 18,
   "metadata": {},
   "outputs": [
    {
     "output_type": "execute_result",
     "data": {
      "text/plain": [
       "        년월  시도명 시군구명 성별코드  가맹점업종명  총결제금액\n",
       "0  2019-03  경기도  양주시    F  유통업 영리   7600\n",
       "1  2019-03  경기도  양주시    F  일반휴게음식  26200\n",
       "2  2019-04  경기도  가평군    F   회원제형태  10000\n",
       "3  2019-04  경기도  가평군    F      기타  10450\n",
       "4  2019-04  경기도  가평군    F    신변잡화  45500"
      ],
      "text/html": "<div>\n<style scoped>\n    .dataframe tbody tr th:only-of-type {\n        vertical-align: middle;\n    }\n\n    .dataframe tbody tr th {\n        vertical-align: top;\n    }\n\n    .dataframe thead th {\n        text-align: right;\n    }\n</style>\n<table border=\"1\" class=\"dataframe\">\n  <thead>\n    <tr style=\"text-align: right;\">\n      <th></th>\n      <th>년월</th>\n      <th>시도명</th>\n      <th>시군구명</th>\n      <th>성별코드</th>\n      <th>가맹점업종명</th>\n      <th>총결제금액</th>\n    </tr>\n  </thead>\n  <tbody>\n    <tr>\n      <th>0</th>\n      <td>2019-03</td>\n      <td>경기도</td>\n      <td>양주시</td>\n      <td>F</td>\n      <td>유통업 영리</td>\n      <td>7600</td>\n    </tr>\n    <tr>\n      <th>1</th>\n      <td>2019-03</td>\n      <td>경기도</td>\n      <td>양주시</td>\n      <td>F</td>\n      <td>일반휴게음식</td>\n      <td>26200</td>\n    </tr>\n    <tr>\n      <th>2</th>\n      <td>2019-04</td>\n      <td>경기도</td>\n      <td>가평군</td>\n      <td>F</td>\n      <td>회원제형태</td>\n      <td>10000</td>\n    </tr>\n    <tr>\n      <th>3</th>\n      <td>2019-04</td>\n      <td>경기도</td>\n      <td>가평군</td>\n      <td>F</td>\n      <td>기타</td>\n      <td>10450</td>\n    </tr>\n    <tr>\n      <th>4</th>\n      <td>2019-04</td>\n      <td>경기도</td>\n      <td>가평군</td>\n      <td>F</td>\n      <td>신변잡화</td>\n      <td>45500</td>\n    </tr>\n  </tbody>\n</table>\n</div>"
     },
     "metadata": {},
     "execution_count": 18
    }
   ],
   "source": [
    "df_mwmn.head()"
   ]
  },
  {
   "cell_type": "code",
   "execution_count": 19,
   "metadata": {},
   "outputs": [],
   "source": [
    "# Drop unused columns & duplicate rows\n",
    "df_postnum = df_postnum.drop(['시도영문', '시군구영문', '읍면영문', '산여부', '지번본번', '지하여부', '건물번호본번', '건물번호부번', '건물관리번호', '다량배달처명', '시군구용건물명', '읍면동일련번호', '지번부번', '법정동명', '구우편번호', '우편번호일련번호', '도로명코드', '도로명', '도로명영문'], axis=1)\n",
    "df_postnum = df_postnum.drop_duplicates(['우편번호'], keep='first')"
   ]
  },
  {
   "source": [
    "### Extract Data\n",
    "- 행정동별 지역화폐 사용횟수 및 상가수"
   ],
   "cell_type": "markdown",
   "metadata": {}
  },
  {
   "cell_type": "code",
   "execution_count": 20,
   "metadata": {},
   "outputs": [
    {
     "output_type": "execute_result",
     "data": {
      "text/plain": [
       "   가맹점우편번호   결제수   상가수\n",
       "0    10125    12   194\n",
       "1    10200   336   297\n",
       "2    10201  1980  1254\n",
       "3    10202  4576  1534\n",
       "4    10203    24    35"
      ],
      "text/html": "<div>\n<style scoped>\n    .dataframe tbody tr th:only-of-type {\n        vertical-align: middle;\n    }\n\n    .dataframe tbody tr th {\n        vertical-align: top;\n    }\n\n    .dataframe thead th {\n        text-align: right;\n    }\n</style>\n<table border=\"1\" class=\"dataframe\">\n  <thead>\n    <tr style=\"text-align: right;\">\n      <th></th>\n      <th>가맹점우편번호</th>\n      <th>결제수</th>\n      <th>상가수</th>\n    </tr>\n  </thead>\n  <tbody>\n    <tr>\n      <th>0</th>\n      <td>10125</td>\n      <td>12</td>\n      <td>194</td>\n    </tr>\n    <tr>\n      <th>1</th>\n      <td>10200</td>\n      <td>336</td>\n      <td>297</td>\n    </tr>\n    <tr>\n      <th>2</th>\n      <td>10201</td>\n      <td>1980</td>\n      <td>1254</td>\n    </tr>\n    <tr>\n      <th>3</th>\n      <td>10202</td>\n      <td>4576</td>\n      <td>1534</td>\n    </tr>\n    <tr>\n      <th>4</th>\n      <td>10203</td>\n      <td>24</td>\n      <td>35</td>\n    </tr>\n  </tbody>\n</table>\n</div>"
     },
     "metadata": {},
     "execution_count": 20
    }
   ],
   "source": [
    "# Group by postnum\n",
    "df_1 = df_lcrcy_induty.groupby('가맹점우편번호').sum().reset_index().drop('분석인덱스', axis=1)\n",
    "df_1.head()"
   ]
  },
  {
   "cell_type": "code",
   "execution_count": 21,
   "metadata": {},
   "outputs": [
    {
     "output_type": "execute_result",
     "data": {
      "text/plain": [
       "  가맹점우편번호       시군구 행정동명   결제수   상가수\n",
       "0   10125       김포시  고촌읍    12   194\n",
       "1   10200  고양시 일산서구  송산동   336   297\n",
       "2   10201  고양시 일산서구  송산동  1980  1254\n",
       "3   10202  고양시 일산서구  송산동  4576  1534\n",
       "4   10203  고양시 일산서구  송포동    24    35"
      ],
      "text/html": "<div>\n<style scoped>\n    .dataframe tbody tr th:only-of-type {\n        vertical-align: middle;\n    }\n\n    .dataframe tbody tr th {\n        vertical-align: top;\n    }\n\n    .dataframe thead th {\n        text-align: right;\n    }\n</style>\n<table border=\"1\" class=\"dataframe\">\n  <thead>\n    <tr style=\"text-align: right;\">\n      <th></th>\n      <th>가맹점우편번호</th>\n      <th>시군구</th>\n      <th>행정동명</th>\n      <th>결제수</th>\n      <th>상가수</th>\n    </tr>\n  </thead>\n  <tbody>\n    <tr>\n      <th>0</th>\n      <td>10125</td>\n      <td>김포시</td>\n      <td>고촌읍</td>\n      <td>12</td>\n      <td>194</td>\n    </tr>\n    <tr>\n      <th>1</th>\n      <td>10200</td>\n      <td>고양시 일산서구</td>\n      <td>송산동</td>\n      <td>336</td>\n      <td>297</td>\n    </tr>\n    <tr>\n      <th>2</th>\n      <td>10201</td>\n      <td>고양시 일산서구</td>\n      <td>송산동</td>\n      <td>1980</td>\n      <td>1254</td>\n    </tr>\n    <tr>\n      <th>3</th>\n      <td>10202</td>\n      <td>고양시 일산서구</td>\n      <td>송산동</td>\n      <td>4576</td>\n      <td>1534</td>\n    </tr>\n    <tr>\n      <th>4</th>\n      <td>10203</td>\n      <td>고양시 일산서구</td>\n      <td>송포동</td>\n      <td>24</td>\n      <td>35</td>\n    </tr>\n  </tbody>\n</table>\n</div>"
     },
     "metadata": {},
     "execution_count": 21
    }
   ],
   "source": [
    "# Merge address data & postnum data\n",
    "df_1_merged = pd.merge(df_1, df_postnum.loc[:, ['우편번호', '시군구', '행정동명']], left_on='가맹점우편번호', right_on='우편번호', how='left').drop('우편번호', axis=1).drop_duplicates(['가맹점우편번호'], keep='first')\n",
    "df_1_merged = df_1_merged[['가맹점우편번호', '시군구', '행정동명', '결제수', '상가수']]\n",
    "df_1_merged['가맹점우편번호'] = df_1_merged['가맹점우편번호'].astype(str)\n",
    "df_1_merged.head()"
   ]
  },
  {
   "cell_type": "code",
   "execution_count": 22,
   "metadata": {},
   "outputs": [
    {
     "output_type": "execute_result",
     "data": {
      "text/plain": [
       "   시군구 행정동명     결제수   상가수\n",
       "0  가평군  가평읍  255432  9416\n",
       "1  가평군   북면    3939   664\n",
       "2  가평군   상면    2015  1074\n",
       "3  가평군  설악면   10605  1550\n",
       "4  가평군  조종면   43751  3788"
      ],
      "text/html": "<div>\n<style scoped>\n    .dataframe tbody tr th:only-of-type {\n        vertical-align: middle;\n    }\n\n    .dataframe tbody tr th {\n        vertical-align: top;\n    }\n\n    .dataframe thead th {\n        text-align: right;\n    }\n</style>\n<table border=\"1\" class=\"dataframe\">\n  <thead>\n    <tr style=\"text-align: right;\">\n      <th></th>\n      <th>시군구</th>\n      <th>행정동명</th>\n      <th>결제수</th>\n      <th>상가수</th>\n    </tr>\n  </thead>\n  <tbody>\n    <tr>\n      <th>0</th>\n      <td>가평군</td>\n      <td>가평읍</td>\n      <td>255432</td>\n      <td>9416</td>\n    </tr>\n    <tr>\n      <th>1</th>\n      <td>가평군</td>\n      <td>북면</td>\n      <td>3939</td>\n      <td>664</td>\n    </tr>\n    <tr>\n      <th>2</th>\n      <td>가평군</td>\n      <td>상면</td>\n      <td>2015</td>\n      <td>1074</td>\n    </tr>\n    <tr>\n      <th>3</th>\n      <td>가평군</td>\n      <td>설악면</td>\n      <td>10605</td>\n      <td>1550</td>\n    </tr>\n    <tr>\n      <th>4</th>\n      <td>가평군</td>\n      <td>조종면</td>\n      <td>43751</td>\n      <td>3788</td>\n    </tr>\n  </tbody>\n</table>\n</div>"
     },
     "metadata": {},
     "execution_count": 22
    }
   ],
   "source": [
    "# Group by address\n",
    "dataset1 = df_1_merged.groupby(['시군구', '행정동명']).sum().reset_index()\n",
    "dataset1.head()"
   ]
  },
  {
   "source": [
    "### Extract Data\n",
    "- 각 행정동 연령대별 지역화폐 사용횟수"
   ],
   "cell_type": "markdown",
   "metadata": {}
  },
  {
   "cell_type": "code",
   "execution_count": 23,
   "metadata": {},
   "outputs": [
    {
     "output_type": "execute_result",
     "data": {
      "text/plain": [
       "   가맹점우편번호 연령대코드  결제수  상가수\n",
       "0    10125    40   12  194\n",
       "1    10200    20    8   33\n",
       "2    10200    30  104   66\n",
       "3    10200    40   56   66\n",
       "4    10200    50  152   66"
      ],
      "text/html": "<div>\n<style scoped>\n    .dataframe tbody tr th:only-of-type {\n        vertical-align: middle;\n    }\n\n    .dataframe tbody tr th {\n        vertical-align: top;\n    }\n\n    .dataframe thead th {\n        text-align: right;\n    }\n</style>\n<table border=\"1\" class=\"dataframe\">\n  <thead>\n    <tr style=\"text-align: right;\">\n      <th></th>\n      <th>가맹점우편번호</th>\n      <th>연령대코드</th>\n      <th>결제수</th>\n      <th>상가수</th>\n    </tr>\n  </thead>\n  <tbody>\n    <tr>\n      <th>0</th>\n      <td>10125</td>\n      <td>40</td>\n      <td>12</td>\n      <td>194</td>\n    </tr>\n    <tr>\n      <th>1</th>\n      <td>10200</td>\n      <td>20</td>\n      <td>8</td>\n      <td>33</td>\n    </tr>\n    <tr>\n      <th>2</th>\n      <td>10200</td>\n      <td>30</td>\n      <td>104</td>\n      <td>66</td>\n    </tr>\n    <tr>\n      <th>3</th>\n      <td>10200</td>\n      <td>40</td>\n      <td>56</td>\n      <td>66</td>\n    </tr>\n    <tr>\n      <th>4</th>\n      <td>10200</td>\n      <td>50</td>\n      <td>152</td>\n      <td>66</td>\n    </tr>\n  </tbody>\n</table>\n</div>"
     },
     "metadata": {},
     "execution_count": 23
    }
   ],
   "source": [
    "# Group by address & age band\n",
    "df_lcrcy_induty['연령대코드'] = df_lcrcy_induty['연령대코드'].astype(str)\n",
    "df_2 = df_lcrcy_induty.groupby(['가맹점우편번호', '연령대코드']).sum().reset_index().drop('분석인덱스', axis=1)\n",
    "df_2.head()"
   ]
  },
  {
   "cell_type": "code",
   "execution_count": 24,
   "metadata": {},
   "outputs": [
    {
     "output_type": "execute_result",
     "data": {
      "text/plain": [
       "   시군구 행정동명 연령대코드  가맹점우편번호    결제수   상가수\n",
       "0  가평군  가평읍    10   186265   2375  1171\n",
       "1  가평군  가평읍    20   235956  15703  1349\n",
       "2  가평군  가평읍    30   260797  57533  1380\n",
       "3  가평군  가평읍    40   273208  89239  1378\n",
       "4  가평군  가평읍    50   285637  70382  1413"
      ],
      "text/html": "<div>\n<style scoped>\n    .dataframe tbody tr th:only-of-type {\n        vertical-align: middle;\n    }\n\n    .dataframe tbody tr th {\n        vertical-align: top;\n    }\n\n    .dataframe thead th {\n        text-align: right;\n    }\n</style>\n<table border=\"1\" class=\"dataframe\">\n  <thead>\n    <tr style=\"text-align: right;\">\n      <th></th>\n      <th>시군구</th>\n      <th>행정동명</th>\n      <th>연령대코드</th>\n      <th>가맹점우편번호</th>\n      <th>결제수</th>\n      <th>상가수</th>\n    </tr>\n  </thead>\n  <tbody>\n    <tr>\n      <th>0</th>\n      <td>가평군</td>\n      <td>가평읍</td>\n      <td>10</td>\n      <td>186265</td>\n      <td>2375</td>\n      <td>1171</td>\n    </tr>\n    <tr>\n      <th>1</th>\n      <td>가평군</td>\n      <td>가평읍</td>\n      <td>20</td>\n      <td>235956</td>\n      <td>15703</td>\n      <td>1349</td>\n    </tr>\n    <tr>\n      <th>2</th>\n      <td>가평군</td>\n      <td>가평읍</td>\n      <td>30</td>\n      <td>260797</td>\n      <td>57533</td>\n      <td>1380</td>\n    </tr>\n    <tr>\n      <th>3</th>\n      <td>가평군</td>\n      <td>가평읍</td>\n      <td>40</td>\n      <td>273208</td>\n      <td>89239</td>\n      <td>1378</td>\n    </tr>\n    <tr>\n      <th>4</th>\n      <td>가평군</td>\n      <td>가평읍</td>\n      <td>50</td>\n      <td>285637</td>\n      <td>70382</td>\n      <td>1413</td>\n    </tr>\n  </tbody>\n</table>\n</div>"
     },
     "metadata": {},
     "execution_count": 24
    }
   ],
   "source": [
    "df_2_merged = pd.merge(df_2, df_postnum.loc[:, ['우편번호', '시군구', '행정동명']], left_on='가맹점우편번호', right_on='우편번호', how='left').drop('우편번호', axis=1)\n",
    "df_2_merged = df_2_merged.groupby(['시군구', '행정동명', '연령대코드']).sum().reset_index()\n",
    "dataset2 = df_2_merged.loc[df_2_merged['연령대코드'].isin(['10', '20', '30', '40', '50', '60'])]\n",
    "dataset2.head()"
   ]
  },
  {
   "cell_type": "code",
   "execution_count": 29,
   "metadata": {},
   "outputs": [
    {
     "output_type": "execute_result",
     "data": {
      "text/plain": [
       "  시군구명 가맹점업종명    총결제금액   평균결제금액\n",
       "0  가평군     가구   386600  2260097\n",
       "1  가평군   건강식품   978500   590878\n",
       "2  가평군   건축자재  1287350   291760\n",
       "3  가평군   광학제품   179000   312660\n",
       "4  가평군     기타   716000   319198"
      ],
      "text/html": "<div>\n<style scoped>\n    .dataframe tbody tr th:only-of-type {\n        vertical-align: middle;\n    }\n\n    .dataframe tbody tr th {\n        vertical-align: top;\n    }\n\n    .dataframe thead th {\n        text-align: right;\n    }\n</style>\n<table border=\"1\" class=\"dataframe\">\n  <thead>\n    <tr style=\"text-align: right;\">\n      <th></th>\n      <th>시군구명</th>\n      <th>가맹점업종명</th>\n      <th>총결제금액</th>\n      <th>평균결제금액</th>\n    </tr>\n  </thead>\n  <tbody>\n    <tr>\n      <th>0</th>\n      <td>가평군</td>\n      <td>가구</td>\n      <td>386600</td>\n      <td>2260097</td>\n    </tr>\n    <tr>\n      <th>1</th>\n      <td>가평군</td>\n      <td>건강식품</td>\n      <td>978500</td>\n      <td>590878</td>\n    </tr>\n    <tr>\n      <th>2</th>\n      <td>가평군</td>\n      <td>건축자재</td>\n      <td>1287350</td>\n      <td>291760</td>\n    </tr>\n    <tr>\n      <th>3</th>\n      <td>가평군</td>\n      <td>광학제품</td>\n      <td>179000</td>\n      <td>312660</td>\n    </tr>\n    <tr>\n      <th>4</th>\n      <td>가평군</td>\n      <td>기타</td>\n      <td>716000</td>\n      <td>319198</td>\n    </tr>\n  </tbody>\n</table>\n</div>"
     },
     "metadata": {},
     "execution_count": 29
    }
   ],
   "source": [
    "# Groupby address & category\n",
    "df_3 = df_mwmn.groupby(['시군구명', '가맹점업종명']).sum().reset_index()\n",
    "df_3_mean = df_mwmn.groupby('가맹점업종명').mean().reset_index()\n",
    "df_3_mean = df_3_mean.rename(columns={'가맹점업종명': '가맹점업종명', '총결제금액': '평균결제금액'})\n",
    "dataset3 = pd.merge(df_3, df_3_mean, on='가맹점업종명', how='left')\n",
    "dataset3['평균결제금액'] = dataset3['평균결제금액'].astype(int)\n",
    "dataset3.head()"
   ]
  }
 ]
}